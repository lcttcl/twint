{
 "cells": [
  {
   "cell_type": "code",
   "execution_count": 1,
   "metadata": {
    "collapsed": true,
    "pycharm": {
     "is_executing": false
    }
   },
   "outputs": [],
   "source": [
    "import twint\n",
    "import pandas"
   ]
  },
  {
   "cell_type": "code",
   "execution_count": 2,
   "outputs": [],
   "source": [
    "raw = pandas.read_csv('86twitter.csv')\n",
    "ids = []"
   ],
   "metadata": {
    "collapsed": false,
    "pycharm": {
     "name": "#%%\n",
     "is_executing": false
    }
   }
  },
  {
   "cell_type": "code",
   "execution_count": 3,
   "outputs": [],
   "source": [
    "for r in raw.iterrows():\n",
    "    s = r[1].values[0].strip('@')\n",
    "    ids.append(s)"
   ],
   "metadata": {
    "collapsed": false,
    "pycharm": {
     "name": "#%%\n",
     "is_executing": false
    }
   }
  },
  {
   "cell_type": "code",
   "execution_count": 7,
   "outputs": [],
   "source": [
    "p = pandas.DataFrame(data=ids)\n",
    "p.to_csv('111.csv')\n"
   ],
   "metadata": {
    "collapsed": false,
    "pycharm": {
     "name": "#%%\n",
     "is_executing": false
    }
   }
  },
  {
   "cell_type": "code",
   "execution_count": 3,
   "outputs": [],
   "source": [
    "a = '123.csv'\n",
    "b = a[:-4]"
   ],
   "metadata": {
    "collapsed": false,
    "pycharm": {
     "name": "#%%\n",
     "is_executing": false
    }
   }
  },
  {
   "cell_type": "code",
   "execution_count": 5,
   "outputs": [],
   "source": [
    "import os\n",
    "import sys\n",
    "import csv\n",
    "import pandas\n",
    "\n",
    "file_path = '..\\\\result'\n",
    "target = []\n",
    "for file in os.listdir(file_path):\n",
    "    # 可以添加过滤条件if file.endwith(\".csv\"）\n",
    "    target.append(file[0:-4])"
   ],
   "metadata": {
    "collapsed": false,
    "pycharm": {
     "name": "#%%\n",
     "is_executing": false
    }
   }
  },
  {
   "cell_type": "code",
   "source": [
    "source = pandas.DataFrame(data=target, columns=['followings'])"
   ],
   "metadata": {
    "collapsed": false,
    "pycharm": {
     "name": "#%%\n",
     "is_executing": false
    }
   },
   "execution_count": 21,
   "outputs": []
  },
  {
   "cell_type": "code",
   "execution_count": 22,
   "outputs": [
    {
     "data": {
      "text/plain": "         followings\n0        abrownepek\n1     AlexDukalskis\n2          andykeiz\n3       apatrickafr\n4        asher_wray\n5       BillGalston\n6    brannerchinese\n7    ChancellorBeth\n8          cwormuth\n9        DanLGolden\n10   Daugherty_Twit\n11           DeanDW\n12      dleelatimes\n13        EKMatambo\n14   EmanuelStoakes\n15           GCLeef\n16        gregmyre1\n17        HalBrands\n18        Helledale\n19    IsmailEinashe\n20    james_a_lewis\n21       JDevermont\n22        JEPomfret\n23        JesLudwig\n24        jimabeler\n25        jmulvenon\n26   JoanBrzezinski\n27    kastner_scott\n28        LUKEPATEY\n29        luosiling\n30    MadelynGlobal\n31        Mangionel\n32  meredithmcquaid\n33  morganwright_us\n34        MWesselDC\n35        perrylink\n36         PLMattis\n37        RepRooney\n38    RepTomGarrett\n39      RichEdsonDC\n40           rick_n\n41   salmoncongress\n42      sbrazys_ucd\n43         SimonWSJ\n44   siobhanehughes\n45     SusanSvrluga\n46   TeresaWatanabe\n47         terzuolo\n48        Walker_CT\n49     WesPres_1836",
      "text/html": "<div>\n<style scoped>\n    .dataframe tbody tr th:only-of-type {\n        vertical-align: middle;\n    }\n\n    .dataframe tbody tr th {\n        vertical-align: top;\n    }\n\n    .dataframe thead th {\n        text-align: right;\n    }\n</style>\n<table border=\"1\" class=\"dataframe\">\n  <thead>\n    <tr style=\"text-align: right;\">\n      <th></th>\n      <th>followings</th>\n    </tr>\n  </thead>\n  <tbody>\n    <tr>\n      <th>0</th>\n      <td>abrownepek</td>\n    </tr>\n    <tr>\n      <th>1</th>\n      <td>AlexDukalskis</td>\n    </tr>\n    <tr>\n      <th>2</th>\n      <td>andykeiz</td>\n    </tr>\n    <tr>\n      <th>3</th>\n      <td>apatrickafr</td>\n    </tr>\n    <tr>\n      <th>4</th>\n      <td>asher_wray</td>\n    </tr>\n    <tr>\n      <th>5</th>\n      <td>BillGalston</td>\n    </tr>\n    <tr>\n      <th>6</th>\n      <td>brannerchinese</td>\n    </tr>\n    <tr>\n      <th>7</th>\n      <td>ChancellorBeth</td>\n    </tr>\n    <tr>\n      <th>8</th>\n      <td>cwormuth</td>\n    </tr>\n    <tr>\n      <th>9</th>\n      <td>DanLGolden</td>\n    </tr>\n    <tr>\n      <th>10</th>\n      <td>Daugherty_Twit</td>\n    </tr>\n    <tr>\n      <th>11</th>\n      <td>DeanDW</td>\n    </tr>\n    <tr>\n      <th>12</th>\n      <td>dleelatimes</td>\n    </tr>\n    <tr>\n      <th>13</th>\n      <td>EKMatambo</td>\n    </tr>\n    <tr>\n      <th>14</th>\n      <td>EmanuelStoakes</td>\n    </tr>\n    <tr>\n      <th>15</th>\n      <td>GCLeef</td>\n    </tr>\n    <tr>\n      <th>16</th>\n      <td>gregmyre1</td>\n    </tr>\n    <tr>\n      <th>17</th>\n      <td>HalBrands</td>\n    </tr>\n    <tr>\n      <th>18</th>\n      <td>Helledale</td>\n    </tr>\n    <tr>\n      <th>19</th>\n      <td>IsmailEinashe</td>\n    </tr>\n    <tr>\n      <th>20</th>\n      <td>james_a_lewis</td>\n    </tr>\n    <tr>\n      <th>21</th>\n      <td>JDevermont</td>\n    </tr>\n    <tr>\n      <th>22</th>\n      <td>JEPomfret</td>\n    </tr>\n    <tr>\n      <th>23</th>\n      <td>JesLudwig</td>\n    </tr>\n    <tr>\n      <th>24</th>\n      <td>jimabeler</td>\n    </tr>\n    <tr>\n      <th>25</th>\n      <td>jmulvenon</td>\n    </tr>\n    <tr>\n      <th>26</th>\n      <td>JoanBrzezinski</td>\n    </tr>\n    <tr>\n      <th>27</th>\n      <td>kastner_scott</td>\n    </tr>\n    <tr>\n      <th>28</th>\n      <td>LUKEPATEY</td>\n    </tr>\n    <tr>\n      <th>29</th>\n      <td>luosiling</td>\n    </tr>\n    <tr>\n      <th>30</th>\n      <td>MadelynGlobal</td>\n    </tr>\n    <tr>\n      <th>31</th>\n      <td>Mangionel</td>\n    </tr>\n    <tr>\n      <th>32</th>\n      <td>meredithmcquaid</td>\n    </tr>\n    <tr>\n      <th>33</th>\n      <td>morganwright_us</td>\n    </tr>\n    <tr>\n      <th>34</th>\n      <td>MWesselDC</td>\n    </tr>\n    <tr>\n      <th>35</th>\n      <td>perrylink</td>\n    </tr>\n    <tr>\n      <th>36</th>\n      <td>PLMattis</td>\n    </tr>\n    <tr>\n      <th>37</th>\n      <td>RepRooney</td>\n    </tr>\n    <tr>\n      <th>38</th>\n      <td>RepTomGarrett</td>\n    </tr>\n    <tr>\n      <th>39</th>\n      <td>RichEdsonDC</td>\n    </tr>\n    <tr>\n      <th>40</th>\n      <td>rick_n</td>\n    </tr>\n    <tr>\n      <th>41</th>\n      <td>salmoncongress</td>\n    </tr>\n    <tr>\n      <th>42</th>\n      <td>sbrazys_ucd</td>\n    </tr>\n    <tr>\n      <th>43</th>\n      <td>SimonWSJ</td>\n    </tr>\n    <tr>\n      <th>44</th>\n      <td>siobhanehughes</td>\n    </tr>\n    <tr>\n      <th>45</th>\n      <td>SusanSvrluga</td>\n    </tr>\n    <tr>\n      <th>46</th>\n      <td>TeresaWatanabe</td>\n    </tr>\n    <tr>\n      <th>47</th>\n      <td>terzuolo</td>\n    </tr>\n    <tr>\n      <th>48</th>\n      <td>Walker_CT</td>\n    </tr>\n    <tr>\n      <th>49</th>\n      <td>WesPres_1836</td>\n    </tr>\n  </tbody>\n</table>\n</div>"
     },
     "metadata": {},
     "output_type": "execute_result",
     "execution_count": 22
    }
   ],
   "source": [
    "source"
   ],
   "metadata": {
    "collapsed": false,
    "pycharm": {
     "name": "#%%\n",
     "is_executing": false
    }
   }
  },
  {
   "cell_type": "code",
   "execution_count": 10,
   "outputs": [],
   "source": [
    "dt = pandas.read_csv('..\\\\result\\\\'+os.listdir(file_path)[0])"
   ],
   "metadata": {
    "collapsed": false,
    "pycharm": {
     "name": "#%%\n",
     "is_executing": false
    }
   }
  },
  {
   "cell_type": "code",
   "execution_count": 25,
   "outputs": [],
   "source": [
    "dt = dt.iloc[:,0].dropna()"
   ],
   "metadata": {
    "collapsed": false,
    "pycharm": {
     "name": "#%%\n",
     "is_executing": false
    }
   }
  },
  {
   "cell_type": "code",
   "execution_count": 33,
   "outputs": [],
   "source": [
    "fo = pandas.merge(dt, source, on=['followings']).values.T.tolist()[0]"
   ],
   "metadata": {
    "collapsed": false,
    "pycharm": {
     "name": "#%%\n",
     "is_executing": false
    }
   }
  },
  {
   "cell_type": "code",
   "execution_count": 34,
   "outputs": [
    {
     "data": {
      "text/plain": "['JEPomfret', 'JesLudwig', 'Walker_CT', 'jmulvenon', 'perrylink']"
     },
     "metadata": {},
     "output_type": "execute_result",
     "execution_count": 34
    }
   ],
   "source": [
    "fo"
   ],
   "metadata": {
    "collapsed": false,
    "pycharm": {
     "name": "#%%\n",
     "is_executing": false
    }
   }
  },
  {
   "cell_type": "code",
   "execution_count": null,
   "outputs": [],
   "source": [
    "for file in os.listdir(file_path):\n",
    "    p = pandas.read_csv('result/' + file)\n",
    "\n",
    "\n"
   ],
   "metadata": {
    "collapsed": false,
    "pycharm": {
     "name": "#%%\n"
    }
   }
  }
 ],
 "metadata": {
  "kernelspec": {
   "display_name": "Python 3",
   "language": "python",
   "name": "python3"
  },
  "language_info": {
   "codemirror_mode": {
    "name": "ipython",
    "version": 2
   },
   "file_extension": ".py",
   "mimetype": "text/x-python",
   "name": "python",
   "nbconvert_exporter": "python",
   "pygments_lexer": "ipython2",
   "version": "2.7.6"
  },
  "pycharm": {
   "stem_cell": {
    "cell_type": "raw",
    "source": [],
    "metadata": {
     "collapsed": false
    }
   }
  }
 },
 "nbformat": 4,
 "nbformat_minor": 0
}